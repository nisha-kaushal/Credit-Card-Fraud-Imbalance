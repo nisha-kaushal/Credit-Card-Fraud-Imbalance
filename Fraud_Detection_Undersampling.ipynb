{
 "cells": [
  {
   "cell_type": "markdown",
   "id": "82ba6674",
   "metadata": {},
   "source": [
    "# Credit Card Fraud Detection with Imbalanced Data: Undersampling vs. Oversampling (Undersampling Notebook)\n",
    "\n",
    "### Goal\n",
    "Credit card fraud detection using labeled data is one of the main basic projects used while learning about data science, machine learning, and binary classifiers. In this notebook, I am less focused on building simple classification models to detect fraud, and instead, I am curious to test the difference between oversampling and undersampling techniques and their outcomes when applied to highly-imbalanced data, like the dataset used here. Utilizing the Imbalanced-Learn library, my goal is to find which of the two sampling techniques is more useful in highly imbalanced data, and how each affects the accuracy.\n",
    "\n",
    "***This project has been broken into 3 notebooks, as one notebook exceeds the file size limit for Github.***\n",
    "\n",
    "### Data Source\n",
    "The original dataset can be found [here](https://www.kaggle.com/datasets/mlg-ulb/creditcardfraud) <br> \n",
    "**Notes from data source:** \"It contains only numerical input variables which are the result of a PCA transformation. Unfortunately, due to confidentiality issues, we cannot provide the original features and more background information about the data. Features V1, V2, … V28 are the principal components obtained with PCA, the only features which have not been transformed with PCA are 'Time' and 'Amount'. Feature 'Time' contains the seconds elapsed between each transaction and the first transaction in the dataset. The feature 'Amount' is the transaction Amount, this feature can be used for example-dependant cost-sensitive learning. Feature 'Class' is the response variable and it takes value 1 in case of fraud and 0 otherwise.\" <br> \n",
    "\n",
    "In addition, the publisher recommended to not use confusion matrices due to the high imbalance in target variable, however I will utilize them in this notebook because I am comparing methods to create balanced data. "
   ]
  },
  {
   "cell_type": "code",
   "execution_count": 5,
   "id": "f04d52b7",
   "metadata": {},
   "outputs": [],
   "source": [
    "#import dependencies\n",
    "import numpy as np \n",
    "import pandas as pd \n",
    "import plotly.express as px\n",
    "import plotly.graph_objects as go\n",
    "import matplotlib.pyplot as plt\n",
    "import seaborn as sns\n",
    "#import classification dependencies\n",
    "import sklearn \n",
    "from sklearn.model_selection import train_test_split\n",
    "from sklearn.tree import DecisionTreeClassifier\n",
    "from sklearn.ensemble import RandomForestClassifier\n",
    "from sklearn.linear_model import LogisticRegression\n",
    "from sklearn.neighbors import KNeighborsClassifier \n",
    "from sklearn.metrics  import (f1_score,accuracy_score, recall_score, precision_score, confusion_matrix)\n",
    "from imblearn.under_sampling import NearMiss\n",
    "\n",
    "\n",
    "pd.set_option('display.max_columns', None)\n",
    "pd.set_option('display.max_colwidth', None)"
   ]
  },
  {
   "cell_type": "code",
   "execution_count": 6,
   "id": "f63a1938",
   "metadata": {},
   "outputs": [],
   "source": [
    "#import data \n",
    "credit_data = pd.read_csv('creditcard.csv')"
   ]
  },
  {
   "cell_type": "markdown",
   "id": "f868c82f",
   "metadata": {},
   "source": [
    "## Undersampling \n",
    "There are several undersampling techniques that can be used. For this notebook, I will be using **Near Miss Undersampling**. There are 3 versions of NearMiss, and for the purpose of this notebook, I will be using Version 3, as described below: <br> \n",
    "***Version 3 of the Near Miss Undersampling keeps an example from the majority class for each closest record of the minority class. It should result in an increased accuracy, as it takes into consideration the  majority class values near the decision boundary***"
   ]
  },
  {
   "cell_type": "code",
   "execution_count": 7,
   "id": "bb27fd44",
   "metadata": {},
   "outputs": [
    {
     "data": {
      "text/plain": [
       "(984, 31)"
      ]
     },
     "execution_count": 7,
     "metadata": {},
     "output_type": "execute_result"
    }
   ],
   "source": [
    "#create NearMiss object:\n",
    "nm = NearMiss(version = 3)\n",
    "#fit the data:\n",
    "X_nm, y_nm = nm.fit_resample(credit_data.drop('Class', axis=1), credit_data['Class'])\n",
    "#concat the new X and y values to a new dataframe:\n",
    "nm_df = pd.concat([pd.DataFrame(y_nm), pd.DataFrame(X_nm)], axis=1)\n",
    "\n",
    "#check the shape:\n",
    "nm_df.shape"
   ]
  },
  {
   "cell_type": "code",
   "execution_count": 8,
   "id": "8dbeae05",
   "metadata": {},
   "outputs": [
    {
     "name": "stdout",
     "output_type": "stream",
     "text": [
      "In the dataset created with Near Miss Undersampling, there are: \n",
      "492 fraud transactions\n",
      "492 non-fraud transactions\n"
     ]
    }
   ],
   "source": [
    "nm_fraud = len(nm_df[nm_df['Class'] == 1])\n",
    "nm_nonfraud = len(nm_df[nm_df['Class'] == 0])\n",
    "print('In the dataset created with Near Miss Undersampling, there are: ')\n",
    "print(f'{str(nm_fraud)} fraud transactions')\n",
    "print(f'{str(nm_nonfraud)} non-fraud transactions')\n"
   ]
  },
  {
   "cell_type": "markdown",
   "id": "4e09d6b2",
   "metadata": {},
   "source": [
    "That is quite a large difference in amount data compared to the original! As seen with oversampling, undersampling also makes it so the amount of data in each class matches. In undersampling, this means removing majority class data until the amount equals the amount of the minority class, whereas oversampling means creating synthetic data to add to the minority class, so that the amount of the minority class equals that of the majority class. \n",
    "\n",
    "Now that I have the new dataset, I will do the same as I did with the oversampling data and apply multiple classification models to the dataset. \n",
    "\n",
    "**Because I have a small amount of data, I will not create a cross-validation dataset, to ensure my model has enough data in the training set**"
   ]
  },
  {
   "cell_type": "code",
   "execution_count": 9,
   "id": "6b2cb895",
   "metadata": {},
   "outputs": [],
   "source": [
    "#train_test_split: \n",
    "nm_copy = nm_df.copy()\n",
    "y_nm = nm_copy['Class']\n",
    "X_nm = nm_copy.drop('Class', axis = 1)\n",
    "\n",
    "X_train_nm, X_test_nm, y_train_nm, y_test_nm = train_test_split(X_nm, y_nm, test_size = 0.3, train_size = 0.7)\n"
   ]
  },
  {
   "cell_type": "code",
   "execution_count": 11,
   "id": "46ba6670",
   "metadata": {},
   "outputs": [
    {
     "name": "stdout",
     "output_type": "stream",
     "text": [
      "Random Forest Classifier\n",
      "Accuracy Score: 0.9155405405405406\n",
      "Precision Score: 0.8670886075949367\n",
      "Recall Score: 0.9716312056737588\n"
     ]
    }
   ],
   "source": [
    "# Random Forest Classifier\n",
    "RAND_STATE = 42\n",
    "rfc_nm = RandomForestClassifier(random_state = RAND_STATE)\n",
    "rfc_nm.fit(X_train_nm, y_train_nm)\n",
    "rfc_nm_pred = rfc_nm.predict(X_test_nm)\n",
    "\n",
    "#accuracy score\n",
    "rfc_nm_acc = accuracy_score(rfc_nm_pred, y_test_nm)\n",
    "\n",
    "#precision: \n",
    "rfc_nm_prec = precision_score(rfc_nm_pred, y_test_nm)\n",
    "#recall:\n",
    "rfc_nm_rec = recall_score(rfc_nm_pred, y_test_nm)\n",
    "\n",
    "print('Random Forest Classifier')\n",
    "print(f'Accuracy Score: {str(rfc_nm_acc)}')\n",
    "print(f'Precision Score: {str(rfc_nm_prec)}')\n",
    "print(f'Recall Score: {str(rfc_nm_rec)}')"
   ]
  },
  {
   "cell_type": "code",
   "execution_count": 13,
   "id": "6befa5c1",
   "metadata": {},
   "outputs": [
    {
     "data": {
      "image/png": "[encoded data removed]",
      "text/plain": [
       "<Figure size 864x864 with 2 Axes>"
      ]
     },
     "metadata": {
      "needs_background": "light"
     },
     "output_type": "display_data"
    }
   ],
   "source": [
    "LABELS = ['Normal', 'Fraud']\n",
    "conf_matrix = confusion_matrix(y_test_nm, rfc_nm_pred)\n",
    "plt.figure(figsize=(12,12))\n",
    "sns.heatmap(conf_matrix, xticklabels = LABELS, yticklabels = LABELS, annot=True, fmt='d')\n",
    "plt.title('Confusion Matrix')\n",
    "plt.ylabel('True class')\n",
    "plt.xlabel('Predicted class')\n",
    "plt.show()"
   ]
  },
  {
   "cell_type": "code",
   "execution_count": 14,
   "id": "b1fd6c9f",
   "metadata": {},
   "outputs": [
    {
     "name": "stdout",
     "output_type": "stream",
     "text": [
      "Decision Tree Classifier\n",
      "Accuracy Score: 0.8986486486486487\n",
      "Precision Score: 0.8860759493670886\n",
      "Recall Score: 0.9210526315789473\n"
     ]
    }
   ],
   "source": [
    "# Decision Tree\n",
    "\n",
    "dtc_nm = DecisionTreeClassifier(random_state = RAND_STATE)\n",
    "dtc_nm.fit(X_train_nm, y_train_nm)\n",
    "dtc_nm_pred = dtc_nm.predict(X_test_nm)\n",
    "\n",
    "#accuracy score\n",
    "dtc_nm_acc = accuracy_score(dtc_nm_pred, y_test_nm)\n",
    "\n",
    "#precision: \n",
    "dtc_nm_prec = precision_score(dtc_nm_pred, y_test_nm)\n",
    "#recall:\n",
    "dtc_nm_rec = recall_score(dtc_nm_pred, y_test_nm)\n",
    "\n",
    "print('Decision Tree Classifier')\n",
    "print(f'Accuracy Score: {str(dtc_nm_acc)}')\n",
    "print(f'Precision Score: {str(dtc_nm_prec)}')\n",
    "print(f'Recall Score: {str(dtc_nm_rec)}')"
   ]
  },
  {
   "cell_type": "code",
   "execution_count": 15,
   "id": "0789c99a",
   "metadata": {},
   "outputs": [
    {
     "data": {
      "image/png": "[encoded data removed]",
      "text/plain": [
       "<Figure size 864x864 with 2 Axes>"
      ]
     },
     "metadata": {
      "needs_background": "light"
     },
     "output_type": "display_data"
    }
   ],
   "source": [
    "conf_matrix = confusion_matrix(y_test_nm, dtc_nm_pred)\n",
    "plt.figure(figsize=(12,12))\n",
    "sns.heatmap(conf_matrix, xticklabels = LABELS, yticklabels = LABELS, annot=True, fmt='d')\n",
    "plt.title('Confusion Matrix')\n",
    "plt.ylabel('True class')\n",
    "plt.xlabel('Predicted class')\n",
    "plt.show()"
   ]
  },
  {
   "cell_type": "code",
   "execution_count": 16,
   "id": "f82b16fc",
   "metadata": {},
   "outputs": [
    {
     "name": "stdout",
     "output_type": "stream",
     "text": [
      "Logistic Regression\n",
      "Accuracy Score: 0.918918918918919\n",
      "Precision Score: 0.8860759493670886\n",
      "Recall Score: 0.958904109589041\n"
     ]
    }
   ],
   "source": [
    "# Logistic Regression\n",
    "\n",
    "lr_nm = LogisticRegression(solver='lbfgs', max_iter= 1000, random_state = RAND_STATE)\n",
    "lr_nm.fit(X_train_nm, y_train_nm)\n",
    "lr_nm_pred = lr_nm.predict(X_test_nm)\n",
    "\n",
    "#accuracy score\n",
    "lr_nm_acc = accuracy_score(lr_nm_pred, y_test_nm)\n",
    "\n",
    "#precision: \n",
    "lr_nm_prec = precision_score(lr_nm_pred, y_test_nm)\n",
    "#recall:\n",
    "lr_nm_rec = recall_score(lr_nm_pred, y_test_nm)\n",
    "\n",
    "print('Logistic Regression')\n",
    "print(f'Accuracy Score: {str(lr_nm_acc)}')\n",
    "print(f'Precision Score: {str(lr_nm_prec)}')\n",
    "print(f'Recall Score: {str(lr_nm_rec)}')"
   ]
  },
  {
   "cell_type": "code",
   "execution_count": 17,
   "id": "5bffe3c2",
   "metadata": {},
   "outputs": [
    {
     "data": {
      "image/png": "[encoded data removed]",
      "text/plain": [
       "<Figure size 864x864 with 2 Axes>"
      ]
     },
     "metadata": {
      "needs_background": "light"
     },
     "output_type": "display_data"
    }
   ],
   "source": [
    "conf_matrix = confusion_matrix(y_test_nm, lr_nm_pred)\n",
    "plt.figure(figsize=(12,12))\n",
    "sns.heatmap(conf_matrix, xticklabels = LABELS, yticklabels = LABELS, annot=True, fmt='d')\n",
    "plt.title('Confusion Matrix')\n",
    "plt.ylabel('True class')\n",
    "plt.xlabel('Predicted class')\n",
    "plt.show()"
   ]
  },
  {
   "cell_type": "code",
   "execution_count": 18,
   "id": "f0e68d02",
   "metadata": {},
   "outputs": [
    {
     "name": "stdout",
     "output_type": "stream",
     "text": [
      "K-Nearest Neighbors\n",
      "Accuracy Score: 0.6114864864864865\n",
      "Precision Score: 0.620253164556962\n",
      "Recall Score: 0.6405228758169934\n"
     ]
    }
   ],
   "source": [
    "# K-Nearest Neighbors\n",
    "kn_nm = KNeighborsClassifier()\n",
    "kn_nm.fit(X_train_nm, y_train_nm)\n",
    "kn_nm_pred = kn_nm.predict(X_test_nm)\n",
    "\n",
    "#accuracy score\n",
    "kn_nm_acc = accuracy_score(kn_nm_pred, y_test_nm)\n",
    "\n",
    "#precision: \n",
    "kn_nm_prec = precision_score(kn_nm_pred, y_test_nm)\n",
    "#recall:\n",
    "kn_nm_rec = recall_score(kn_nm_pred, y_test_nm)\n",
    "\n",
    "print('K-Nearest Neighbors')\n",
    "print(f'Accuracy Score: {str(kn_nm_acc)}')\n",
    "print(f'Precision Score: {str(kn_nm_prec)}')\n",
    "print(f'Recall Score: {str(kn_nm_rec)}')"
   ]
  },
  {
   "cell_type": "code",
   "execution_count": 19,
   "id": "e3cb9798",
   "metadata": {},
   "outputs": [
    {
     "data": {
      "image/png": "[encoded data removed]",
      "text/plain": [
       "<Figure size 864x864 with 2 Axes>"
      ]
     },
     "metadata": {
      "needs_background": "light"
     },
     "output_type": "display_data"
    }
   ],
   "source": [
    "conf_matrix = confusion_matrix(y_test_nm, kn_nm_pred)\n",
    "plt.figure(figsize=(12,12))\n",
    "sns.heatmap(conf_matrix, xticklabels = LABELS, yticklabels = LABELS, annot=True, fmt='d')\n",
    "plt.title('Confusion Matrix')\n",
    "plt.ylabel('True class')\n",
    "plt.xlabel('Predicted class')\n",
    "plt.show()"
   ]
  },
  {
   "cell_type": "markdown",
   "id": "c2954546",
   "metadata": {},
   "source": [
    "## Results and Oversampling vs Undersampling Comparison \n",
    "\n",
    "### Results\n",
    "As seen in the classifiers created, Random Forest Classifier did the best overall in both the undersampling and oversampling examples. K-Nearest Neighbors seems to have taken a more dramatic decrease in accuracy, precision, and recall with undersampling. \n",
    "\n",
    "### Oversampling vs Undersampling \n",
    "Undersampling and Oversmapling both have certain pros and cons, mainly due to the amount of data. In particular, Oversampling leads to a vast amount of data for use, which does lead to higher accuracy. However, the larger amount of data, the higher amount of computing power needed for the models to run efficiently. If not enough computing power is available, the models will take a long time to run. Undersampling, on the otherhand, significantly decreased the amount of data, and allowed for a faster runtime for all models. However, there was also a dramatic decrease in accuracy/precision/recall. From this notebook, it seems that undersampling would be best used if a project can sacrifice a bit of accuracy for an increased run time, and oversampling would be best where a large amount of data can be handled, so that the project can have the higher accuracy. "
   ]
  },
  {
   "cell_type": "code",
   "execution_count": null,
   "id": "db824311",
   "metadata": {},
   "outputs": [],
   "source": []
  }
 ],
 "metadata": {
  "kernelspec": {
   "display_name": "Python 3 (ipykernel)",
   "language": "python",
   "name": "python3"
  },
  "language_info": {
   "codemirror_mode": {
    "name": "ipython",
    "version": 3
   },
   "file_extension": ".py",
   "mimetype": "text/x-python",
   "name": "python",
   "nbconvert_exporter": "python",
   "pygments_lexer": "ipython3",
   "version": "3.9.7"
  }
 },
 "nbformat": 4,
 "nbformat_minor": 5
}
